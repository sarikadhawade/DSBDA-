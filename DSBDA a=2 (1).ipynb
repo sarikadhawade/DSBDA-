{
 "cells": [
  {
   "cell_type": "code",
   "execution_count": 1,
   "metadata": {
    "id": "43_Cl-LuYzs1"
   },
   "outputs": [],
   "source": [
    "import pandas as pd"
   ]
  },
  {
   "cell_type": "code",
   "execution_count": 2,
   "metadata": {
    "id": "oOhg26y_PfmE"
   },
   "outputs": [],
   "source": [
    "df=pd.read_csv('C:/Users/dell/Downloads/Untitled spreadsheet - Sheet1.csv')"
   ]
  },
  {
   "cell_type": "code",
   "execution_count": 3,
   "metadata": {
    "id": "ndnVFkSAiPNt"
   },
   "outputs": [],
   "source": [
    "df1=df\n",
    "df2=df1\n",
    "df3=df\n",
    "df4=df"
   ]
  },
  {
   "cell_type": "code",
   "execution_count": 4,
   "metadata": {
    "colab": {
     "base_uri": "https://localhost:8080/",
     "height": 959
    },
    "id": "MpOnyURkiZPG",
    "outputId": "dfdb4c49-044c-407e-d84c-972740f477f2"
   },
   "outputs": [
    {
     "data": {
      "text/html": [
       "<div>\n",
       "<style scoped>\n",
       "    .dataframe tbody tr th:only-of-type {\n",
       "        vertical-align: middle;\n",
       "    }\n",
       "\n",
       "    .dataframe tbody tr th {\n",
       "        vertical-align: top;\n",
       "    }\n",
       "\n",
       "    .dataframe thead th {\n",
       "        text-align: right;\n",
       "    }\n",
       "</style>\n",
       "<table border=\"1\" class=\"dataframe\">\n",
       "  <thead>\n",
       "    <tr style=\"text-align: right;\">\n",
       "      <th></th>\n",
       "      <th>Gender</th>\n",
       "      <th>math_score</th>\n",
       "      <th>reading_score</th>\n",
       "      <th>writing_score</th>\n",
       "      <th>placement_score</th>\n",
       "      <th>club join year</th>\n",
       "      <th>placement offer count</th>\n",
       "    </tr>\n",
       "  </thead>\n",
       "  <tbody>\n",
       "    <tr>\n",
       "      <th>0</th>\n",
       "      <td>male</td>\n",
       "      <td>75</td>\n",
       "      <td>72</td>\n",
       "      <td>62</td>\n",
       "      <td>85</td>\n",
       "      <td>2023</td>\n",
       "      <td>1</td>\n",
       "    </tr>\n",
       "    <tr>\n",
       "      <th>1</th>\n",
       "      <td>female</td>\n",
       "      <td>86</td>\n",
       "      <td>75</td>\n",
       "      <td>85</td>\n",
       "      <td>75</td>\n",
       "      <td>2022</td>\n",
       "      <td>2</td>\n",
       "    </tr>\n",
       "    <tr>\n",
       "      <th>2</th>\n",
       "      <td>male</td>\n",
       "      <td>76</td>\n",
       "      <td>61</td>\n",
       "      <td>42</td>\n",
       "      <td>85</td>\n",
       "      <td>2023</td>\n",
       "      <td>1</td>\n",
       "    </tr>\n",
       "    <tr>\n",
       "      <th>3</th>\n",
       "      <td>female</td>\n",
       "      <td>71</td>\n",
       "      <td>42</td>\n",
       "      <td>85</td>\n",
       "      <td>46</td>\n",
       "      <td>2023</td>\n",
       "      <td>1</td>\n",
       "    </tr>\n",
       "    <tr>\n",
       "      <th>4</th>\n",
       "      <td>female</td>\n",
       "      <td>73</td>\n",
       "      <td>55</td>\n",
       "      <td>55</td>\n",
       "      <td>85</td>\n",
       "      <td>2023</td>\n",
       "      <td>1</td>\n",
       "    </tr>\n",
       "    <tr>\n",
       "      <th>5</th>\n",
       "      <td>male</td>\n",
       "      <td>76</td>\n",
       "      <td>62</td>\n",
       "      <td>45</td>\n",
       "      <td>94</td>\n",
       "      <td>2023</td>\n",
       "      <td>1</td>\n",
       "    </tr>\n",
       "    <tr>\n",
       "      <th>6</th>\n",
       "      <td>female</td>\n",
       "      <td>71</td>\n",
       "      <td>42</td>\n",
       "      <td>75</td>\n",
       "      <td>85</td>\n",
       "      <td>2022</td>\n",
       "      <td>1</td>\n",
       "    </tr>\n",
       "    <tr>\n",
       "      <th>7</th>\n",
       "      <td>male</td>\n",
       "      <td>74</td>\n",
       "      <td>52</td>\n",
       "      <td>85</td>\n",
       "      <td>76</td>\n",
       "      <td>2022</td>\n",
       "      <td>1</td>\n",
       "    </tr>\n",
       "    <tr>\n",
       "      <th>8</th>\n",
       "      <td>male</td>\n",
       "      <td>75</td>\n",
       "      <td>85</td>\n",
       "      <td>75</td>\n",
       "      <td>91</td>\n",
       "      <td>2023</td>\n",
       "      <td>1</td>\n",
       "    </tr>\n",
       "    <tr>\n",
       "      <th>9</th>\n",
       "      <td>female</td>\n",
       "      <td>73</td>\n",
       "      <td>75</td>\n",
       "      <td>45</td>\n",
       "      <td>83</td>\n",
       "      <td>2023</td>\n",
       "      <td>1</td>\n",
       "    </tr>\n",
       "    <tr>\n",
       "      <th>10</th>\n",
       "      <td>male</td>\n",
       "      <td>75</td>\n",
       "      <td>75</td>\n",
       "      <td>52</td>\n",
       "      <td>46</td>\n",
       "      <td>2023</td>\n",
       "      <td>1</td>\n",
       "    </tr>\n",
       "  </tbody>\n",
       "</table>\n",
       "</div>"
      ],
      "text/plain": [
       "    Gender  math_score  reading_score  writing_score  placement_score  \\\n",
       "0     male          75             72             62               85   \n",
       "1   female          86             75             85               75   \n",
       "2     male          76             61             42               85   \n",
       "3   female          71             42             85               46   \n",
       "4   female          73             55             55               85   \n",
       "5     male          76             62             45               94   \n",
       "6   female          71             42             75               85   \n",
       "7     male          74             52             85               76   \n",
       "8     male          75             85             75               91   \n",
       "9   female          73             75             45               83   \n",
       "10    male          75             75             52               46   \n",
       "\n",
       "    club join year  placement offer count  \n",
       "0             2023                      1  \n",
       "1             2022                      2  \n",
       "2             2023                      1  \n",
       "3             2023                      1  \n",
       "4             2023                      1  \n",
       "5             2023                      1  \n",
       "6             2022                      1  \n",
       "7             2022                      1  \n",
       "8             2023                      1  \n",
       "9             2023                      1  \n",
       "10            2023                      1  "
      ]
     },
     "execution_count": 4,
     "metadata": {},
     "output_type": "execute_result"
    }
   ],
   "source": [
    "df"
   ]
  },
  {
   "cell_type": "code",
   "execution_count": 5,
   "metadata": {
    "colab": {
     "base_uri": "https://localhost:8080/",
     "height": 959
    },
    "id": "NYbd7f3SidU9",
    "outputId": "0faa5159-abe1-4bec-85ff-ce51539bcf2b"
   },
   "outputs": [
    {
     "data": {
      "text/html": [
       "<div>\n",
       "<style scoped>\n",
       "    .dataframe tbody tr th:only-of-type {\n",
       "        vertical-align: middle;\n",
       "    }\n",
       "\n",
       "    .dataframe tbody tr th {\n",
       "        vertical-align: top;\n",
       "    }\n",
       "\n",
       "    .dataframe thead th {\n",
       "        text-align: right;\n",
       "    }\n",
       "</style>\n",
       "<table border=\"1\" class=\"dataframe\">\n",
       "  <thead>\n",
       "    <tr style=\"text-align: right;\">\n",
       "      <th></th>\n",
       "      <th>Gender</th>\n",
       "      <th>math_score</th>\n",
       "      <th>reading_score</th>\n",
       "      <th>writing_score</th>\n",
       "      <th>placement_score</th>\n",
       "      <th>club join year</th>\n",
       "      <th>placement offer count</th>\n",
       "    </tr>\n",
       "  </thead>\n",
       "  <tbody>\n",
       "    <tr>\n",
       "      <th>0</th>\n",
       "      <td>False</td>\n",
       "      <td>False</td>\n",
       "      <td>False</td>\n",
       "      <td>False</td>\n",
       "      <td>False</td>\n",
       "      <td>False</td>\n",
       "      <td>False</td>\n",
       "    </tr>\n",
       "    <tr>\n",
       "      <th>1</th>\n",
       "      <td>False</td>\n",
       "      <td>False</td>\n",
       "      <td>False</td>\n",
       "      <td>False</td>\n",
       "      <td>False</td>\n",
       "      <td>False</td>\n",
       "      <td>False</td>\n",
       "    </tr>\n",
       "    <tr>\n",
       "      <th>2</th>\n",
       "      <td>False</td>\n",
       "      <td>False</td>\n",
       "      <td>False</td>\n",
       "      <td>False</td>\n",
       "      <td>False</td>\n",
       "      <td>False</td>\n",
       "      <td>False</td>\n",
       "    </tr>\n",
       "    <tr>\n",
       "      <th>3</th>\n",
       "      <td>False</td>\n",
       "      <td>False</td>\n",
       "      <td>False</td>\n",
       "      <td>False</td>\n",
       "      <td>False</td>\n",
       "      <td>False</td>\n",
       "      <td>False</td>\n",
       "    </tr>\n",
       "    <tr>\n",
       "      <th>4</th>\n",
       "      <td>False</td>\n",
       "      <td>False</td>\n",
       "      <td>False</td>\n",
       "      <td>False</td>\n",
       "      <td>False</td>\n",
       "      <td>False</td>\n",
       "      <td>False</td>\n",
       "    </tr>\n",
       "    <tr>\n",
       "      <th>5</th>\n",
       "      <td>False</td>\n",
       "      <td>False</td>\n",
       "      <td>False</td>\n",
       "      <td>False</td>\n",
       "      <td>False</td>\n",
       "      <td>False</td>\n",
       "      <td>False</td>\n",
       "    </tr>\n",
       "    <tr>\n",
       "      <th>6</th>\n",
       "      <td>False</td>\n",
       "      <td>False</td>\n",
       "      <td>False</td>\n",
       "      <td>False</td>\n",
       "      <td>False</td>\n",
       "      <td>False</td>\n",
       "      <td>False</td>\n",
       "    </tr>\n",
       "    <tr>\n",
       "      <th>7</th>\n",
       "      <td>False</td>\n",
       "      <td>False</td>\n",
       "      <td>False</td>\n",
       "      <td>False</td>\n",
       "      <td>False</td>\n",
       "      <td>False</td>\n",
       "      <td>False</td>\n",
       "    </tr>\n",
       "    <tr>\n",
       "      <th>8</th>\n",
       "      <td>False</td>\n",
       "      <td>False</td>\n",
       "      <td>False</td>\n",
       "      <td>False</td>\n",
       "      <td>False</td>\n",
       "      <td>False</td>\n",
       "      <td>False</td>\n",
       "    </tr>\n",
       "    <tr>\n",
       "      <th>9</th>\n",
       "      <td>False</td>\n",
       "      <td>False</td>\n",
       "      <td>False</td>\n",
       "      <td>False</td>\n",
       "      <td>False</td>\n",
       "      <td>False</td>\n",
       "      <td>False</td>\n",
       "    </tr>\n",
       "    <tr>\n",
       "      <th>10</th>\n",
       "      <td>False</td>\n",
       "      <td>False</td>\n",
       "      <td>False</td>\n",
       "      <td>False</td>\n",
       "      <td>False</td>\n",
       "      <td>False</td>\n",
       "      <td>False</td>\n",
       "    </tr>\n",
       "  </tbody>\n",
       "</table>\n",
       "</div>"
      ],
      "text/plain": [
       "    Gender  math_score  reading_score  writing_score  placement_score  \\\n",
       "0    False       False          False          False            False   \n",
       "1    False       False          False          False            False   \n",
       "2    False       False          False          False            False   \n",
       "3    False       False          False          False            False   \n",
       "4    False       False          False          False            False   \n",
       "5    False       False          False          False            False   \n",
       "6    False       False          False          False            False   \n",
       "7    False       False          False          False            False   \n",
       "8    False       False          False          False            False   \n",
       "9    False       False          False          False            False   \n",
       "10   False       False          False          False            False   \n",
       "\n",
       "    club join year  placement offer count  \n",
       "0            False                  False  \n",
       "1            False                  False  \n",
       "2            False                  False  \n",
       "3            False                  False  \n",
       "4            False                  False  \n",
       "5            False                  False  \n",
       "6            False                  False  \n",
       "7            False                  False  \n",
       "8            False                  False  \n",
       "9            False                  False  \n",
       "10           False                  False  "
      ]
     },
     "execution_count": 5,
     "metadata": {},
     "output_type": "execute_result"
    }
   ],
   "source": [
    "df.isnull()"
   ]
  },
  {
   "cell_type": "code",
   "execution_count": 6,
   "metadata": {
    "colab": {
     "base_uri": "https://localhost:8080/"
    },
    "id": "hbbIo6KqihyQ",
    "outputId": "f857d5d7-6846-4375-8906-2a55fdc57686"
   },
   "outputs": [
    {
     "data": {
      "text/plain": [
       "Gender                   0\n",
       "math_score               0\n",
       "reading_score            0\n",
       "writing_score            0\n",
       "placement_score          0\n",
       "club join year           0\n",
       "placement offer count    0\n",
       "dtype: int64"
      ]
     },
     "execution_count": 6,
     "metadata": {},
     "output_type": "execute_result"
    }
   ],
   "source": [
    "df.isnull().sum()"
   ]
  },
  {
   "cell_type": "code",
   "execution_count": 7,
   "metadata": {
    "colab": {
     "base_uri": "https://localhost:8080/"
    },
    "id": "TGMzZnXuipVM",
    "outputId": "732e0e02-e849-45a4-8542-afc40b818fa3"
   },
   "outputs": [
    {
     "data": {
      "text/plain": [
       "Index(['Gender', 'math_score', 'reading_score', 'writing_score',\n",
       "       'placement_score', 'club join year', 'placement offer count'],\n",
       "      dtype='object')"
      ]
     },
     "execution_count": 7,
     "metadata": {},
     "output_type": "execute_result"
    }
   ],
   "source": [
    "df.columns"
   ]
  },
  {
   "cell_type": "code",
   "execution_count": 8,
   "metadata": {
    "colab": {
     "base_uri": "https://localhost:8080/"
    },
    "id": "54UbXLMBXL_F",
    "outputId": "f166686d-4cee-4776-d7c8-221b8e4bb9c0"
   },
   "outputs": [
    {
     "data": {
      "text/plain": [
       "Gender                   0\n",
       "math_score               0\n",
       "reading_score            0\n",
       "writing_score            0\n",
       "placement_score          0\n",
       "club join year           0\n",
       "placement offer count    0\n",
       "dtype: int64"
      ]
     },
     "execution_count": 8,
     "metadata": {},
     "output_type": "execute_result"
    }
   ],
   "source": [
    "df.isnull().sum()"
   ]
  },
  {
   "cell_type": "code",
   "execution_count": 9,
   "metadata": {
    "colab": {
     "base_uri": "https://localhost:8080/",
     "height": 300
    },
    "id": "VS-M_fNUXVfN",
    "outputId": "40e4d4d7-8a56-4173-be6b-274a14eaa965"
   },
   "outputs": [
    {
     "data": {
      "text/html": [
       "<div>\n",
       "<style scoped>\n",
       "    .dataframe tbody tr th:only-of-type {\n",
       "        vertical-align: middle;\n",
       "    }\n",
       "\n",
       "    .dataframe tbody tr th {\n",
       "        vertical-align: top;\n",
       "    }\n",
       "\n",
       "    .dataframe thead th {\n",
       "        text-align: right;\n",
       "    }\n",
       "</style>\n",
       "<table border=\"1\" class=\"dataframe\">\n",
       "  <thead>\n",
       "    <tr style=\"text-align: right;\">\n",
       "      <th></th>\n",
       "      <th>math_score</th>\n",
       "      <th>reading_score</th>\n",
       "      <th>writing_score</th>\n",
       "      <th>placement_score</th>\n",
       "      <th>club join year</th>\n",
       "      <th>placement offer count</th>\n",
       "    </tr>\n",
       "  </thead>\n",
       "  <tbody>\n",
       "    <tr>\n",
       "      <th>count</th>\n",
       "      <td>11.000000</td>\n",
       "      <td>11.000000</td>\n",
       "      <td>11.000000</td>\n",
       "      <td>11.000000</td>\n",
       "      <td>11.000000</td>\n",
       "      <td>11.000000</td>\n",
       "    </tr>\n",
       "    <tr>\n",
       "      <th>mean</th>\n",
       "      <td>75.000000</td>\n",
       "      <td>63.272727</td>\n",
       "      <td>64.181818</td>\n",
       "      <td>77.363636</td>\n",
       "      <td>2022.727273</td>\n",
       "      <td>1.090909</td>\n",
       "    </tr>\n",
       "    <tr>\n",
       "      <th>std</th>\n",
       "      <td>4.049691</td>\n",
       "      <td>14.381175</td>\n",
       "      <td>17.319458</td>\n",
       "      <td>16.439420</td>\n",
       "      <td>0.467099</td>\n",
       "      <td>0.301511</td>\n",
       "    </tr>\n",
       "    <tr>\n",
       "      <th>min</th>\n",
       "      <td>71.000000</td>\n",
       "      <td>42.000000</td>\n",
       "      <td>42.000000</td>\n",
       "      <td>46.000000</td>\n",
       "      <td>2022.000000</td>\n",
       "      <td>1.000000</td>\n",
       "    </tr>\n",
       "    <tr>\n",
       "      <th>25%</th>\n",
       "      <td>73.000000</td>\n",
       "      <td>53.500000</td>\n",
       "      <td>48.500000</td>\n",
       "      <td>75.500000</td>\n",
       "      <td>2022.500000</td>\n",
       "      <td>1.000000</td>\n",
       "    </tr>\n",
       "    <tr>\n",
       "      <th>50%</th>\n",
       "      <td>75.000000</td>\n",
       "      <td>62.000000</td>\n",
       "      <td>62.000000</td>\n",
       "      <td>85.000000</td>\n",
       "      <td>2023.000000</td>\n",
       "      <td>1.000000</td>\n",
       "    </tr>\n",
       "    <tr>\n",
       "      <th>75%</th>\n",
       "      <td>75.500000</td>\n",
       "      <td>75.000000</td>\n",
       "      <td>80.000000</td>\n",
       "      <td>85.000000</td>\n",
       "      <td>2023.000000</td>\n",
       "      <td>1.000000</td>\n",
       "    </tr>\n",
       "    <tr>\n",
       "      <th>max</th>\n",
       "      <td>86.000000</td>\n",
       "      <td>85.000000</td>\n",
       "      <td>85.000000</td>\n",
       "      <td>94.000000</td>\n",
       "      <td>2023.000000</td>\n",
       "      <td>2.000000</td>\n",
       "    </tr>\n",
       "  </tbody>\n",
       "</table>\n",
       "</div>"
      ],
      "text/plain": [
       "       math_score  reading_score  writing_score  placement_score  \\\n",
       "count   11.000000      11.000000      11.000000        11.000000   \n",
       "mean    75.000000      63.272727      64.181818        77.363636   \n",
       "std      4.049691      14.381175      17.319458        16.439420   \n",
       "min     71.000000      42.000000      42.000000        46.000000   \n",
       "25%     73.000000      53.500000      48.500000        75.500000   \n",
       "50%     75.000000      62.000000      62.000000        85.000000   \n",
       "75%     75.500000      75.000000      80.000000        85.000000   \n",
       "max     86.000000      85.000000      85.000000        94.000000   \n",
       "\n",
       "       club join year  placement offer count  \n",
       "count       11.000000              11.000000  \n",
       "mean      2022.727273               1.090909  \n",
       "std          0.467099               0.301511  \n",
       "min       2022.000000               1.000000  \n",
       "25%       2022.500000               1.000000  \n",
       "50%       2023.000000               1.000000  \n",
       "75%       2023.000000               1.000000  \n",
       "max       2023.000000               2.000000  "
      ]
     },
     "execution_count": 9,
     "metadata": {},
     "output_type": "execute_result"
    }
   ],
   "source": [
    "df.describe()"
   ]
  },
  {
   "cell_type": "code",
   "execution_count": 10,
   "metadata": {
    "colab": {
     "base_uri": "https://localhost:8080/"
    },
    "id": "en8oY6-gXlAF",
    "outputId": "821e1c98-6dcf-436a-a3e2-988895b36b21"
   },
   "outputs": [
    {
     "data": {
      "text/plain": [
       "0     72\n",
       "1     75\n",
       "2     61\n",
       "3     42\n",
       "4     55\n",
       "5     62\n",
       "6     42\n",
       "7     52\n",
       "8     85\n",
       "9     75\n",
       "10    75\n",
       "Name: reading_score, dtype: int64"
      ]
     },
     "execution_count": 10,
     "metadata": {},
     "output_type": "execute_result"
    }
   ],
   "source": [
    "df['reading_score']"
   ]
  },
  {
   "cell_type": "code",
   "execution_count": 11,
   "metadata": {
    "colab": {
     "base_uri": "https://localhost:8080/"
    },
    "id": "UFPfog9oZA41",
    "outputId": "e1aee0ba-c33f-4c2d-900a-4293654ad2bb"
   },
   "outputs": [
    {
     "data": {
      "text/plain": [
       "[]"
      ]
     },
     "execution_count": 11,
     "metadata": {},
     "output_type": "execute_result"
    }
   ],
   "source": [
    "df[df['reading_score'].isnull()].index.tolist()"
   ]
  },
  {
   "cell_type": "code",
   "execution_count": 12,
   "metadata": {
    "id": "SMrdHb_rZ2X-"
   },
   "outputs": [],
   "source": [
    "df['reading_score']=df['reading_score'].fillna(60)"
   ]
  },
  {
   "cell_type": "code",
   "execution_count": 13,
   "metadata": {
    "colab": {
     "base_uri": "https://localhost:8080/"
    },
    "id": "vQaySj5QaT5N",
    "outputId": "8f0d5a6a-c4ca-44f9-8f3c-37093acff626"
   },
   "outputs": [
    {
     "data": {
      "text/plain": [
       "0     72\n",
       "1     75\n",
       "2     61\n",
       "3     42\n",
       "4     55\n",
       "5     62\n",
       "6     42\n",
       "7     52\n",
       "8     85\n",
       "9     75\n",
       "10    75\n",
       "Name: reading_score, dtype: int64"
      ]
     },
     "execution_count": 13,
     "metadata": {},
     "output_type": "execute_result"
    }
   ],
   "source": [
    "df['reading_score']"
   ]
  },
  {
   "cell_type": "code",
   "execution_count": 14,
   "metadata": {
    "colab": {
     "base_uri": "https://localhost:8080/"
    },
    "id": "Ycd05drVacdO",
    "outputId": "698a9c52-be69-4de8-b4c6-2ea8fa96a02a"
   },
   "outputs": [
    {
     "data": {
      "text/plain": [
       "11"
      ]
     },
     "execution_count": 14,
     "metadata": {},
     "output_type": "execute_result"
    }
   ],
   "source": [
    "df['reading_score'].notnull().sum()"
   ]
  },
  {
   "cell_type": "code",
   "execution_count": 15,
   "metadata": {
    "colab": {
     "base_uri": "https://localhost:8080/"
    },
    "id": "n9EEF8Cxap_N",
    "outputId": "2b539a3a-eaa0-4b28-82c9-a81475ab2441"
   },
   "outputs": [
    {
     "data": {
      "text/plain": [
       "[]"
      ]
     },
     "execution_count": 15,
     "metadata": {},
     "output_type": "execute_result"
    }
   ],
   "source": [
    "df[df['math_score'].isnull()].index.tolist()"
   ]
  },
  {
   "cell_type": "code",
   "execution_count": 16,
   "metadata": {
    "id": "00rFuf_IeYCJ"
   },
   "outputs": [],
   "source": [
    "df['math_score']=df['math_score'].fillna(df['math_score'].mean())"
   ]
  },
  {
   "cell_type": "code",
   "execution_count": 17,
   "metadata": {
    "colab": {
     "base_uri": "https://localhost:8080/"
    },
    "id": "aDa_JeNoe6lD",
    "outputId": "fc5ef661-08b1-4a8f-a338-28e93d3b64ac"
   },
   "outputs": [
    {
     "data": {
      "text/plain": [
       "0"
      ]
     },
     "execution_count": 17,
     "metadata": {},
     "output_type": "execute_result"
    }
   ],
   "source": [
    "df['math_score'].isnull().sum()"
   ]
  },
  {
   "cell_type": "code",
   "execution_count": 18,
   "metadata": {
    "colab": {
     "base_uri": "https://localhost:8080/"
    },
    "id": "wKAr-QPAfOT9",
    "outputId": "5586c0db-9969-46a5-a71a-c203477d301a"
   },
   "outputs": [
    {
     "data": {
      "text/plain": [
       "Gender                   0\n",
       "math_score               0\n",
       "reading_score            0\n",
       "writing_score            0\n",
       "placement_score          0\n",
       "club join year           0\n",
       "placement offer count    0\n",
       "dtype: int64"
      ]
     },
     "execution_count": 18,
     "metadata": {},
     "output_type": "execute_result"
    }
   ],
   "source": [
    "df.isnull().sum()"
   ]
  },
  {
   "cell_type": "code",
   "execution_count": 19,
   "metadata": {
    "colab": {
     "base_uri": "https://localhost:8080/"
    },
    "id": "YSF2mxVXfYpE",
    "outputId": "8febd792-ed14-4bf6-adad-fdd7cb71f536"
   },
   "outputs": [
    {
     "data": {
      "text/plain": [
       "[]"
      ]
     },
     "execution_count": 19,
     "metadata": {},
     "output_type": "execute_result"
    }
   ],
   "source": [
    "df[df['writing_score'].isnull()].index.tolist()"
   ]
  },
  {
   "cell_type": "code",
   "execution_count": 20,
   "metadata": {
    "id": "ZIFA4PNsfwvG"
   },
   "outputs": [],
   "source": [
    "df['writing_score']=df['writing_score'].fillna(df['writing_score'].median())"
   ]
  },
  {
   "cell_type": "code",
   "execution_count": 21,
   "metadata": {
    "colab": {
     "base_uri": "https://localhost:8080/"
    },
    "id": "25MBDj4dgKtF",
    "outputId": "bc6dbbd6-2298-430d-b8a9-dc478dc570c4"
   },
   "outputs": [
    {
     "data": {
      "text/plain": [
       "0"
      ]
     },
     "execution_count": 21,
     "metadata": {},
     "output_type": "execute_result"
    }
   ],
   "source": [
    "df['writing_score'].isnull().sum()"
   ]
  },
  {
   "cell_type": "code",
   "execution_count": 22,
   "metadata": {
    "colab": {
     "base_uri": "https://localhost:8080/",
     "height": 206
    },
    "id": "HvEezYoRgd2s",
    "outputId": "798f45a7-d801-404f-d4b0-b9fc7754f019"
   },
   "outputs": [
    {
     "data": {
      "text/html": [
       "<div>\n",
       "<style scoped>\n",
       "    .dataframe tbody tr th:only-of-type {\n",
       "        vertical-align: middle;\n",
       "    }\n",
       "\n",
       "    .dataframe tbody tr th {\n",
       "        vertical-align: top;\n",
       "    }\n",
       "\n",
       "    .dataframe thead th {\n",
       "        text-align: right;\n",
       "    }\n",
       "</style>\n",
       "<table border=\"1\" class=\"dataframe\">\n",
       "  <thead>\n",
       "    <tr style=\"text-align: right;\">\n",
       "      <th></th>\n",
       "      <th>Gender</th>\n",
       "      <th>math_score</th>\n",
       "      <th>reading_score</th>\n",
       "      <th>writing_score</th>\n",
       "      <th>placement_score</th>\n",
       "      <th>club join year</th>\n",
       "      <th>placement offer count</th>\n",
       "    </tr>\n",
       "  </thead>\n",
       "  <tbody>\n",
       "    <tr>\n",
       "      <th>0</th>\n",
       "      <td>male</td>\n",
       "      <td>75</td>\n",
       "      <td>72</td>\n",
       "      <td>62</td>\n",
       "      <td>85</td>\n",
       "      <td>2023</td>\n",
       "      <td>1</td>\n",
       "    </tr>\n",
       "    <tr>\n",
       "      <th>1</th>\n",
       "      <td>female</td>\n",
       "      <td>86</td>\n",
       "      <td>75</td>\n",
       "      <td>85</td>\n",
       "      <td>75</td>\n",
       "      <td>2022</td>\n",
       "      <td>2</td>\n",
       "    </tr>\n",
       "    <tr>\n",
       "      <th>2</th>\n",
       "      <td>male</td>\n",
       "      <td>76</td>\n",
       "      <td>61</td>\n",
       "      <td>42</td>\n",
       "      <td>85</td>\n",
       "      <td>2023</td>\n",
       "      <td>1</td>\n",
       "    </tr>\n",
       "    <tr>\n",
       "      <th>3</th>\n",
       "      <td>female</td>\n",
       "      <td>71</td>\n",
       "      <td>42</td>\n",
       "      <td>85</td>\n",
       "      <td>46</td>\n",
       "      <td>2023</td>\n",
       "      <td>1</td>\n",
       "    </tr>\n",
       "    <tr>\n",
       "      <th>4</th>\n",
       "      <td>female</td>\n",
       "      <td>73</td>\n",
       "      <td>55</td>\n",
       "      <td>55</td>\n",
       "      <td>85</td>\n",
       "      <td>2023</td>\n",
       "      <td>1</td>\n",
       "    </tr>\n",
       "  </tbody>\n",
       "</table>\n",
       "</div>"
      ],
      "text/plain": [
       "   Gender  math_score  reading_score  writing_score  placement_score  \\\n",
       "0    male          75             72             62               85   \n",
       "1  female          86             75             85               75   \n",
       "2    male          76             61             42               85   \n",
       "3  female          71             42             85               46   \n",
       "4  female          73             55             55               85   \n",
       "\n",
       "   club join year  placement offer count  \n",
       "0            2023                      1  \n",
       "1            2022                      2  \n",
       "2            2023                      1  \n",
       "3            2023                      1  \n",
       "4            2023                      1  "
      ]
     },
     "execution_count": 22,
     "metadata": {},
     "output_type": "execute_result"
    }
   ],
   "source": [
    "df2.head()"
   ]
  },
  {
   "cell_type": "code",
   "execution_count": 23,
   "metadata": {
    "id": "0JwovurGgiyM"
   },
   "outputs": [],
   "source": [
    "import numpy as np"
   ]
  },
  {
   "cell_type": "code",
   "execution_count": 24,
   "metadata": {
    "colab": {
     "base_uri": "https://localhost:8080/"
    },
    "id": "v7_-_VVognmU",
    "outputId": "5101cabf-e5c1-4bc8-fc63-a4de304dcf24"
   },
   "outputs": [
    {
     "data": {
      "text/plain": [
       "Gender                   0\n",
       "math_score               0\n",
       "reading_score            0\n",
       "writing_score            0\n",
       "placement_score          0\n",
       "club join year           0\n",
       "placement offer count    0\n",
       "dtype: int64"
      ]
     },
     "execution_count": 24,
     "metadata": {},
     "output_type": "execute_result"
    }
   ],
   "source": [
    "df.isnull().sum()"
   ]
  },
  {
   "cell_type": "code",
   "execution_count": 25,
   "metadata": {
    "colab": {
     "base_uri": "https://localhost:8080/"
    },
    "id": "421MiO0mhHvD",
    "outputId": "5eaf934b-4cbd-42df-8b44-ab996866c651"
   },
   "outputs": [
    {
     "data": {
      "text/plain": [
       "[]"
      ]
     },
     "execution_count": 25,
     "metadata": {},
     "output_type": "execute_result"
    }
   ],
   "source": [
    "df[df['math_score'].isnull()].index.tolist()"
   ]
  },
  {
   "cell_type": "code",
   "execution_count": 26,
   "metadata": {
    "colab": {
     "base_uri": "https://localhost:8080/"
    },
    "id": "QdNEmcVWSoHt",
    "outputId": "4546cca7-9752-4732-8bf3-bf694a3a78d1"
   },
   "outputs": [
    {
     "data": {
      "text/plain": [
       "[]"
      ]
     },
     "execution_count": 26,
     "metadata": {},
     "output_type": "execute_result"
    }
   ],
   "source": [
    "df[df['reading_score'].isnull()].index.tolist()"
   ]
  },
  {
   "cell_type": "code",
   "execution_count": 27,
   "metadata": {
    "colab": {
     "base_uri": "https://localhost:8080/",
     "height": 959
    },
    "id": "wTIb6GeghcLt",
    "outputId": "12513e5f-7530-465d-fb9e-866f852d22b3"
   },
   "outputs": [
    {
     "data": {
      "text/html": [
       "<div>\n",
       "<style scoped>\n",
       "    .dataframe tbody tr th:only-of-type {\n",
       "        vertical-align: middle;\n",
       "    }\n",
       "\n",
       "    .dataframe tbody tr th {\n",
       "        vertical-align: top;\n",
       "    }\n",
       "\n",
       "    .dataframe thead th {\n",
       "        text-align: right;\n",
       "    }\n",
       "</style>\n",
       "<table border=\"1\" class=\"dataframe\">\n",
       "  <thead>\n",
       "    <tr style=\"text-align: right;\">\n",
       "      <th></th>\n",
       "      <th>Gender</th>\n",
       "      <th>math_score</th>\n",
       "      <th>reading_score</th>\n",
       "      <th>writing_score</th>\n",
       "      <th>placement_score</th>\n",
       "      <th>club join year</th>\n",
       "      <th>placement offer count</th>\n",
       "    </tr>\n",
       "  </thead>\n",
       "  <tbody>\n",
       "    <tr>\n",
       "      <th>0</th>\n",
       "      <td>male</td>\n",
       "      <td>75</td>\n",
       "      <td>72</td>\n",
       "      <td>62</td>\n",
       "      <td>85</td>\n",
       "      <td>2023</td>\n",
       "      <td>1</td>\n",
       "    </tr>\n",
       "    <tr>\n",
       "      <th>1</th>\n",
       "      <td>female</td>\n",
       "      <td>86</td>\n",
       "      <td>75</td>\n",
       "      <td>85</td>\n",
       "      <td>75</td>\n",
       "      <td>2022</td>\n",
       "      <td>2</td>\n",
       "    </tr>\n",
       "    <tr>\n",
       "      <th>2</th>\n",
       "      <td>male</td>\n",
       "      <td>76</td>\n",
       "      <td>61</td>\n",
       "      <td>42</td>\n",
       "      <td>85</td>\n",
       "      <td>2023</td>\n",
       "      <td>1</td>\n",
       "    </tr>\n",
       "    <tr>\n",
       "      <th>3</th>\n",
       "      <td>female</td>\n",
       "      <td>71</td>\n",
       "      <td>42</td>\n",
       "      <td>85</td>\n",
       "      <td>46</td>\n",
       "      <td>2023</td>\n",
       "      <td>1</td>\n",
       "    </tr>\n",
       "    <tr>\n",
       "      <th>4</th>\n",
       "      <td>female</td>\n",
       "      <td>73</td>\n",
       "      <td>55</td>\n",
       "      <td>55</td>\n",
       "      <td>85</td>\n",
       "      <td>2023</td>\n",
       "      <td>1</td>\n",
       "    </tr>\n",
       "    <tr>\n",
       "      <th>5</th>\n",
       "      <td>male</td>\n",
       "      <td>76</td>\n",
       "      <td>62</td>\n",
       "      <td>45</td>\n",
       "      <td>94</td>\n",
       "      <td>2023</td>\n",
       "      <td>1</td>\n",
       "    </tr>\n",
       "    <tr>\n",
       "      <th>6</th>\n",
       "      <td>female</td>\n",
       "      <td>71</td>\n",
       "      <td>42</td>\n",
       "      <td>75</td>\n",
       "      <td>85</td>\n",
       "      <td>2022</td>\n",
       "      <td>1</td>\n",
       "    </tr>\n",
       "    <tr>\n",
       "      <th>7</th>\n",
       "      <td>male</td>\n",
       "      <td>74</td>\n",
       "      <td>52</td>\n",
       "      <td>85</td>\n",
       "      <td>76</td>\n",
       "      <td>2022</td>\n",
       "      <td>1</td>\n",
       "    </tr>\n",
       "    <tr>\n",
       "      <th>8</th>\n",
       "      <td>male</td>\n",
       "      <td>75</td>\n",
       "      <td>85</td>\n",
       "      <td>75</td>\n",
       "      <td>91</td>\n",
       "      <td>2023</td>\n",
       "      <td>1</td>\n",
       "    </tr>\n",
       "    <tr>\n",
       "      <th>9</th>\n",
       "      <td>female</td>\n",
       "      <td>73</td>\n",
       "      <td>75</td>\n",
       "      <td>45</td>\n",
       "      <td>83</td>\n",
       "      <td>2023</td>\n",
       "      <td>1</td>\n",
       "    </tr>\n",
       "    <tr>\n",
       "      <th>10</th>\n",
       "      <td>male</td>\n",
       "      <td>75</td>\n",
       "      <td>75</td>\n",
       "      <td>52</td>\n",
       "      <td>46</td>\n",
       "      <td>2023</td>\n",
       "      <td>1</td>\n",
       "    </tr>\n",
       "  </tbody>\n",
       "</table>\n",
       "</div>"
      ],
      "text/plain": [
       "    Gender  math_score  reading_score  writing_score  placement_score  \\\n",
       "0     male          75             72             62               85   \n",
       "1   female          86             75             85               75   \n",
       "2     male          76             61             42               85   \n",
       "3   female          71             42             85               46   \n",
       "4   female          73             55             55               85   \n",
       "5     male          76             62             45               94   \n",
       "6   female          71             42             75               85   \n",
       "7     male          74             52             85               76   \n",
       "8     male          75             85             75               91   \n",
       "9   female          73             75             45               83   \n",
       "10    male          75             75             52               46   \n",
       "\n",
       "    club join year  placement offer count  \n",
       "0             2023                      1  \n",
       "1             2022                      2  \n",
       "2             2023                      1  \n",
       "3             2023                      1  \n",
       "4             2023                      1  \n",
       "5             2023                      1  \n",
       "6             2022                      1  \n",
       "7             2022                      1  \n",
       "8             2023                      1  \n",
       "9             2023                      1  \n",
       "10            2023                      1  "
      ]
     },
     "execution_count": 27,
     "metadata": {},
     "output_type": "execute_result"
    }
   ],
   "source": [
    "df.replace(to_replace=np.nan,value=80)"
   ]
  },
  {
   "cell_type": "code",
   "execution_count": 28,
   "metadata": {
    "colab": {
     "base_uri": "https://localhost:8080/"
    },
    "id": "Cz6om8pWhtIb",
    "outputId": "c4cbc99d-a128-4e66-d99f-963750287dfd"
   },
   "outputs": [
    {
     "data": {
      "text/plain": [
       "Gender                   0\n",
       "math_score               0\n",
       "reading_score            0\n",
       "writing_score            0\n",
       "placement_score          0\n",
       "club join year           0\n",
       "placement offer count    0\n",
       "dtype: int64"
      ]
     },
     "execution_count": 28,
     "metadata": {},
     "output_type": "execute_result"
    }
   ],
   "source": [
    "df2.isnull().sum()"
   ]
  },
  {
   "cell_type": "markdown",
   "metadata": {
    "id": "bvRLn6yYNYNz"
   },
   "source": [
    "###Deleting null values using dropna() metthod"
   ]
  },
  {
   "cell_type": "code",
   "execution_count": 29,
   "metadata": {
    "colab": {
     "base_uri": "https://localhost:8080/"
    },
    "id": "m0KQsiAsN_nk",
    "outputId": "2423ae29-7107-4ae4-ca92-5bb47c5c16c7"
   },
   "outputs": [
    {
     "data": {
      "text/plain": [
       "Gender                   0\n",
       "math_score               0\n",
       "reading_score            0\n",
       "writing_score            0\n",
       "placement_score          0\n",
       "club join year           0\n",
       "placement offer count    0\n",
       "dtype: int64"
      ]
     },
     "execution_count": 29,
     "metadata": {},
     "output_type": "execute_result"
    }
   ],
   "source": [
    "df3.isnull().sum()"
   ]
  },
  {
   "cell_type": "code",
   "execution_count": 30,
   "metadata": {
    "colab": {
     "base_uri": "https://localhost:8080/"
    },
    "id": "rO31gewcORVY",
    "outputId": "7a58994f-bef8-44b3-cb72-8dbf58d636c9"
   },
   "outputs": [
    {
     "data": {
      "text/plain": [
       "[]"
      ]
     },
     "execution_count": 30,
     "metadata": {},
     "output_type": "execute_result"
    }
   ],
   "source": [
    "df3[df3['math_score'].isnull()].index.tolist()"
   ]
  },
  {
   "cell_type": "code",
   "execution_count": 31,
   "metadata": {
    "colab": {
     "base_uri": "https://localhost:8080/"
    },
    "id": "kMyJ6DaIOpiH",
    "outputId": "b6f9eb0b-ee8f-45a7-e9d0-fd43edf6c40b"
   },
   "outputs": [
    {
     "data": {
      "text/plain": [
       "[]"
      ]
     },
     "execution_count": 31,
     "metadata": {},
     "output_type": "execute_result"
    }
   ],
   "source": [
    "df3[df3['reading_score'].isnull()].index.tolist()"
   ]
  },
  {
   "cell_type": "code",
   "execution_count": 32,
   "metadata": {
    "colab": {
     "base_uri": "https://localhost:8080/",
     "height": 896
    },
    "id": "L6_k3Kv_O3Gt",
    "outputId": "f5895f95-d1a4-4aa1-ddcb-5eec58e8bb14"
   },
   "outputs": [
    {
     "data": {
      "text/html": [
       "<div>\n",
       "<style scoped>\n",
       "    .dataframe tbody tr th:only-of-type {\n",
       "        vertical-align: middle;\n",
       "    }\n",
       "\n",
       "    .dataframe tbody tr th {\n",
       "        vertical-align: top;\n",
       "    }\n",
       "\n",
       "    .dataframe thead th {\n",
       "        text-align: right;\n",
       "    }\n",
       "</style>\n",
       "<table border=\"1\" class=\"dataframe\">\n",
       "  <thead>\n",
       "    <tr style=\"text-align: right;\">\n",
       "      <th></th>\n",
       "      <th>Gender</th>\n",
       "      <th>math_score</th>\n",
       "      <th>reading_score</th>\n",
       "      <th>writing_score</th>\n",
       "      <th>placement_score</th>\n",
       "      <th>club join year</th>\n",
       "      <th>placement offer count</th>\n",
       "    </tr>\n",
       "  </thead>\n",
       "  <tbody>\n",
       "    <tr>\n",
       "      <th>0</th>\n",
       "      <td>male</td>\n",
       "      <td>75</td>\n",
       "      <td>72</td>\n",
       "      <td>62</td>\n",
       "      <td>85</td>\n",
       "      <td>2023</td>\n",
       "      <td>1</td>\n",
       "    </tr>\n",
       "    <tr>\n",
       "      <th>1</th>\n",
       "      <td>female</td>\n",
       "      <td>86</td>\n",
       "      <td>75</td>\n",
       "      <td>85</td>\n",
       "      <td>75</td>\n",
       "      <td>2022</td>\n",
       "      <td>2</td>\n",
       "    </tr>\n",
       "    <tr>\n",
       "      <th>2</th>\n",
       "      <td>male</td>\n",
       "      <td>76</td>\n",
       "      <td>61</td>\n",
       "      <td>42</td>\n",
       "      <td>85</td>\n",
       "      <td>2023</td>\n",
       "      <td>1</td>\n",
       "    </tr>\n",
       "    <tr>\n",
       "      <th>3</th>\n",
       "      <td>female</td>\n",
       "      <td>71</td>\n",
       "      <td>42</td>\n",
       "      <td>85</td>\n",
       "      <td>46</td>\n",
       "      <td>2023</td>\n",
       "      <td>1</td>\n",
       "    </tr>\n",
       "    <tr>\n",
       "      <th>4</th>\n",
       "      <td>female</td>\n",
       "      <td>73</td>\n",
       "      <td>55</td>\n",
       "      <td>55</td>\n",
       "      <td>85</td>\n",
       "      <td>2023</td>\n",
       "      <td>1</td>\n",
       "    </tr>\n",
       "    <tr>\n",
       "      <th>5</th>\n",
       "      <td>male</td>\n",
       "      <td>76</td>\n",
       "      <td>62</td>\n",
       "      <td>45</td>\n",
       "      <td>94</td>\n",
       "      <td>2023</td>\n",
       "      <td>1</td>\n",
       "    </tr>\n",
       "    <tr>\n",
       "      <th>6</th>\n",
       "      <td>female</td>\n",
       "      <td>71</td>\n",
       "      <td>42</td>\n",
       "      <td>75</td>\n",
       "      <td>85</td>\n",
       "      <td>2022</td>\n",
       "      <td>1</td>\n",
       "    </tr>\n",
       "    <tr>\n",
       "      <th>7</th>\n",
       "      <td>male</td>\n",
       "      <td>74</td>\n",
       "      <td>52</td>\n",
       "      <td>85</td>\n",
       "      <td>76</td>\n",
       "      <td>2022</td>\n",
       "      <td>1</td>\n",
       "    </tr>\n",
       "    <tr>\n",
       "      <th>8</th>\n",
       "      <td>male</td>\n",
       "      <td>75</td>\n",
       "      <td>85</td>\n",
       "      <td>75</td>\n",
       "      <td>91</td>\n",
       "      <td>2023</td>\n",
       "      <td>1</td>\n",
       "    </tr>\n",
       "    <tr>\n",
       "      <th>9</th>\n",
       "      <td>female</td>\n",
       "      <td>73</td>\n",
       "      <td>75</td>\n",
       "      <td>45</td>\n",
       "      <td>83</td>\n",
       "      <td>2023</td>\n",
       "      <td>1</td>\n",
       "    </tr>\n",
       "    <tr>\n",
       "      <th>10</th>\n",
       "      <td>male</td>\n",
       "      <td>75</td>\n",
       "      <td>75</td>\n",
       "      <td>52</td>\n",
       "      <td>46</td>\n",
       "      <td>2023</td>\n",
       "      <td>1</td>\n",
       "    </tr>\n",
       "  </tbody>\n",
       "</table>\n",
       "</div>"
      ],
      "text/plain": [
       "    Gender  math_score  reading_score  writing_score  placement_score  \\\n",
       "0     male          75             72             62               85   \n",
       "1   female          86             75             85               75   \n",
       "2     male          76             61             42               85   \n",
       "3   female          71             42             85               46   \n",
       "4   female          73             55             55               85   \n",
       "5     male          76             62             45               94   \n",
       "6   female          71             42             75               85   \n",
       "7     male          74             52             85               76   \n",
       "8     male          75             85             75               91   \n",
       "9   female          73             75             45               83   \n",
       "10    male          75             75             52               46   \n",
       "\n",
       "    club join year  placement offer count  \n",
       "0             2023                      1  \n",
       "1             2022                      2  \n",
       "2             2023                      1  \n",
       "3             2023                      1  \n",
       "4             2023                      1  \n",
       "5             2023                      1  \n",
       "6             2022                      1  \n",
       "7             2022                      1  \n",
       "8             2023                      1  \n",
       "9             2023                      1  \n",
       "10            2023                      1  "
      ]
     },
     "execution_count": 32,
     "metadata": {},
     "output_type": "execute_result"
    }
   ],
   "source": [
    "#To drop rows with at least 1 null value\n",
    "df3.dropna()"
   ]
  },
  {
   "cell_type": "code",
   "execution_count": 33,
   "metadata": {
    "colab": {
     "base_uri": "https://localhost:8080/",
     "height": 959
    },
    "id": "AvVeiHkXPoqF",
    "outputId": "8205f89d-9f1b-4df1-b080-3b0608724eee"
   },
   "outputs": [
    {
     "data": {
      "text/html": [
       "<div>\n",
       "<style scoped>\n",
       "    .dataframe tbody tr th:only-of-type {\n",
       "        vertical-align: middle;\n",
       "    }\n",
       "\n",
       "    .dataframe tbody tr th {\n",
       "        vertical-align: top;\n",
       "    }\n",
       "\n",
       "    .dataframe thead th {\n",
       "        text-align: right;\n",
       "    }\n",
       "</style>\n",
       "<table border=\"1\" class=\"dataframe\">\n",
       "  <thead>\n",
       "    <tr style=\"text-align: right;\">\n",
       "      <th></th>\n",
       "      <th>Gender</th>\n",
       "      <th>math_score</th>\n",
       "      <th>reading_score</th>\n",
       "      <th>writing_score</th>\n",
       "      <th>placement_score</th>\n",
       "      <th>club join year</th>\n",
       "      <th>placement offer count</th>\n",
       "    </tr>\n",
       "  </thead>\n",
       "  <tbody>\n",
       "    <tr>\n",
       "      <th>0</th>\n",
       "      <td>male</td>\n",
       "      <td>75</td>\n",
       "      <td>72</td>\n",
       "      <td>62</td>\n",
       "      <td>85</td>\n",
       "      <td>2023</td>\n",
       "      <td>1</td>\n",
       "    </tr>\n",
       "    <tr>\n",
       "      <th>1</th>\n",
       "      <td>female</td>\n",
       "      <td>86</td>\n",
       "      <td>75</td>\n",
       "      <td>85</td>\n",
       "      <td>75</td>\n",
       "      <td>2022</td>\n",
       "      <td>2</td>\n",
       "    </tr>\n",
       "    <tr>\n",
       "      <th>2</th>\n",
       "      <td>male</td>\n",
       "      <td>76</td>\n",
       "      <td>61</td>\n",
       "      <td>42</td>\n",
       "      <td>85</td>\n",
       "      <td>2023</td>\n",
       "      <td>1</td>\n",
       "    </tr>\n",
       "    <tr>\n",
       "      <th>3</th>\n",
       "      <td>female</td>\n",
       "      <td>71</td>\n",
       "      <td>42</td>\n",
       "      <td>85</td>\n",
       "      <td>46</td>\n",
       "      <td>2023</td>\n",
       "      <td>1</td>\n",
       "    </tr>\n",
       "    <tr>\n",
       "      <th>4</th>\n",
       "      <td>female</td>\n",
       "      <td>73</td>\n",
       "      <td>55</td>\n",
       "      <td>55</td>\n",
       "      <td>85</td>\n",
       "      <td>2023</td>\n",
       "      <td>1</td>\n",
       "    </tr>\n",
       "    <tr>\n",
       "      <th>5</th>\n",
       "      <td>male</td>\n",
       "      <td>76</td>\n",
       "      <td>62</td>\n",
       "      <td>45</td>\n",
       "      <td>94</td>\n",
       "      <td>2023</td>\n",
       "      <td>1</td>\n",
       "    </tr>\n",
       "    <tr>\n",
       "      <th>6</th>\n",
       "      <td>female</td>\n",
       "      <td>71</td>\n",
       "      <td>42</td>\n",
       "      <td>75</td>\n",
       "      <td>85</td>\n",
       "      <td>2022</td>\n",
       "      <td>1</td>\n",
       "    </tr>\n",
       "    <tr>\n",
       "      <th>7</th>\n",
       "      <td>male</td>\n",
       "      <td>74</td>\n",
       "      <td>52</td>\n",
       "      <td>85</td>\n",
       "      <td>76</td>\n",
       "      <td>2022</td>\n",
       "      <td>1</td>\n",
       "    </tr>\n",
       "    <tr>\n",
       "      <th>8</th>\n",
       "      <td>male</td>\n",
       "      <td>75</td>\n",
       "      <td>85</td>\n",
       "      <td>75</td>\n",
       "      <td>91</td>\n",
       "      <td>2023</td>\n",
       "      <td>1</td>\n",
       "    </tr>\n",
       "    <tr>\n",
       "      <th>9</th>\n",
       "      <td>female</td>\n",
       "      <td>73</td>\n",
       "      <td>75</td>\n",
       "      <td>45</td>\n",
       "      <td>83</td>\n",
       "      <td>2023</td>\n",
       "      <td>1</td>\n",
       "    </tr>\n",
       "    <tr>\n",
       "      <th>10</th>\n",
       "      <td>male</td>\n",
       "      <td>75</td>\n",
       "      <td>75</td>\n",
       "      <td>52</td>\n",
       "      <td>46</td>\n",
       "      <td>2023</td>\n",
       "      <td>1</td>\n",
       "    </tr>\n",
       "  </tbody>\n",
       "</table>\n",
       "</div>"
      ],
      "text/plain": [
       "    Gender  math_score  reading_score  writing_score  placement_score  \\\n",
       "0     male          75             72             62               85   \n",
       "1   female          86             75             85               75   \n",
       "2     male          76             61             42               85   \n",
       "3   female          71             42             85               46   \n",
       "4   female          73             55             55               85   \n",
       "5     male          76             62             45               94   \n",
       "6   female          71             42             75               85   \n",
       "7     male          74             52             85               76   \n",
       "8     male          75             85             75               91   \n",
       "9   female          73             75             45               83   \n",
       "10    male          75             75             52               46   \n",
       "\n",
       "    club join year  placement offer count  \n",
       "0             2023                      1  \n",
       "1             2022                      2  \n",
       "2             2023                      1  \n",
       "3             2023                      1  \n",
       "4             2023                      1  \n",
       "5             2023                      1  \n",
       "6             2022                      1  \n",
       "7             2022                      1  \n",
       "8             2023                      1  \n",
       "9             2023                      1  \n",
       "10            2023                      1  "
      ]
     },
     "execution_count": 33,
     "metadata": {},
     "output_type": "execute_result"
    }
   ],
   "source": [
    "#To Drop columns with at least 1 null value\n",
    "df4.dropna(axis=1)"
   ]
  },
  {
   "cell_type": "markdown",
   "metadata": {
    "id": "Q9vHA0tnRwif"
   },
   "source": [
    "## **Handling** **Outliers**\n",
    "### **1.Detecting outliers using Boxplot:**"
   ]
  },
  {
   "cell_type": "code",
   "execution_count": 40,
   "metadata": {
    "colab": {
     "base_uri": "https://localhost:8080/"
    },
    "id": "efD7F45aSafa",
    "outputId": "5d39e070-aecc-4833-e392-0af77b8db5b4"
   },
   "outputs": [
    {
     "data": {
      "text/html": [
       "<div>\n",
       "<style scoped>\n",
       "    .dataframe tbody tr th:only-of-type {\n",
       "        vertical-align: middle;\n",
       "    }\n",
       "\n",
       "    .dataframe tbody tr th {\n",
       "        vertical-align: top;\n",
       "    }\n",
       "\n",
       "    .dataframe thead th {\n",
       "        text-align: right;\n",
       "    }\n",
       "</style>\n",
       "<table border=\"1\" class=\"dataframe\">\n",
       "  <thead>\n",
       "    <tr style=\"text-align: right;\">\n",
       "      <th></th>\n",
       "      <th>Gender</th>\n",
       "      <th>math_score</th>\n",
       "      <th>reading_score</th>\n",
       "      <th>writing_score</th>\n",
       "      <th>placement_score</th>\n",
       "      <th>club join year</th>\n",
       "      <th>placement offer count</th>\n",
       "    </tr>\n",
       "  </thead>\n",
       "  <tbody>\n",
       "    <tr>\n",
       "      <th>0</th>\n",
       "      <td>male</td>\n",
       "      <td>75</td>\n",
       "      <td>72</td>\n",
       "      <td>62</td>\n",
       "      <td>85</td>\n",
       "      <td>2023</td>\n",
       "      <td>1</td>\n",
       "    </tr>\n",
       "    <tr>\n",
       "      <th>1</th>\n",
       "      <td>female</td>\n",
       "      <td>86</td>\n",
       "      <td>75</td>\n",
       "      <td>85</td>\n",
       "      <td>75</td>\n",
       "      <td>2022</td>\n",
       "      <td>2</td>\n",
       "    </tr>\n",
       "    <tr>\n",
       "      <th>2</th>\n",
       "      <td>male</td>\n",
       "      <td>76</td>\n",
       "      <td>61</td>\n",
       "      <td>42</td>\n",
       "      <td>85</td>\n",
       "      <td>2023</td>\n",
       "      <td>1</td>\n",
       "    </tr>\n",
       "    <tr>\n",
       "      <th>3</th>\n",
       "      <td>female</td>\n",
       "      <td>71</td>\n",
       "      <td>42</td>\n",
       "      <td>85</td>\n",
       "      <td>46</td>\n",
       "      <td>2023</td>\n",
       "      <td>1</td>\n",
       "    </tr>\n",
       "    <tr>\n",
       "      <th>4</th>\n",
       "      <td>female</td>\n",
       "      <td>73</td>\n",
       "      <td>55</td>\n",
       "      <td>55</td>\n",
       "      <td>85</td>\n",
       "      <td>2023</td>\n",
       "      <td>1</td>\n",
       "    </tr>\n",
       "    <tr>\n",
       "      <th>5</th>\n",
       "      <td>male</td>\n",
       "      <td>76</td>\n",
       "      <td>62</td>\n",
       "      <td>45</td>\n",
       "      <td>94</td>\n",
       "      <td>2023</td>\n",
       "      <td>1</td>\n",
       "    </tr>\n",
       "    <tr>\n",
       "      <th>6</th>\n",
       "      <td>female</td>\n",
       "      <td>71</td>\n",
       "      <td>42</td>\n",
       "      <td>75</td>\n",
       "      <td>85</td>\n",
       "      <td>2022</td>\n",
       "      <td>1</td>\n",
       "    </tr>\n",
       "    <tr>\n",
       "      <th>7</th>\n",
       "      <td>male</td>\n",
       "      <td>74</td>\n",
       "      <td>52</td>\n",
       "      <td>85</td>\n",
       "      <td>76</td>\n",
       "      <td>2022</td>\n",
       "      <td>1</td>\n",
       "    </tr>\n",
       "    <tr>\n",
       "      <th>8</th>\n",
       "      <td>male</td>\n",
       "      <td>75</td>\n",
       "      <td>85</td>\n",
       "      <td>75</td>\n",
       "      <td>91</td>\n",
       "      <td>2023</td>\n",
       "      <td>1</td>\n",
       "    </tr>\n",
       "    <tr>\n",
       "      <th>9</th>\n",
       "      <td>female</td>\n",
       "      <td>73</td>\n",
       "      <td>75</td>\n",
       "      <td>45</td>\n",
       "      <td>83</td>\n",
       "      <td>2023</td>\n",
       "      <td>1</td>\n",
       "    </tr>\n",
       "    <tr>\n",
       "      <th>10</th>\n",
       "      <td>male</td>\n",
       "      <td>75</td>\n",
       "      <td>75</td>\n",
       "      <td>52</td>\n",
       "      <td>46</td>\n",
       "      <td>2023</td>\n",
       "      <td>1</td>\n",
       "    </tr>\n",
       "  </tbody>\n",
       "</table>\n",
       "</div>"
      ],
      "text/plain": [
       "    Gender  math_score  reading_score  writing_score  placement_score  \\\n",
       "0     male          75             72             62               85   \n",
       "1   female          86             75             85               75   \n",
       "2     male          76             61             42               85   \n",
       "3   female          71             42             85               46   \n",
       "4   female          73             55             55               85   \n",
       "5     male          76             62             45               94   \n",
       "6   female          71             42             75               85   \n",
       "7     male          74             52             85               76   \n",
       "8     male          75             85             75               91   \n",
       "9   female          73             75             45               83   \n",
       "10    male          75             75             52               46   \n",
       "\n",
       "    club join year  placement offer count  \n",
       "0             2023                      1  \n",
       "1             2022                      2  \n",
       "2             2023                      1  \n",
       "3             2023                      1  \n",
       "4             2023                      1  \n",
       "5             2023                      1  \n",
       "6             2022                      1  \n",
       "7             2022                      1  \n",
       "8             2023                      1  \n",
       "9             2023                      1  \n",
       "10            2023                      1  "
      ]
     },
     "execution_count": 40,
     "metadata": {},
     "output_type": "execute_result"
    }
   ],
   "source": [
    "df"
   ]
  },
  {
   "cell_type": "code",
   "execution_count": 41,
   "metadata": {},
   "outputs": [
    {
     "data": {
      "text/plain": [
       "Index(['Gender', 'math_score', 'reading_score', 'writing_score',\n",
       "       'placement_score', 'club join year', 'placement offer count'],\n",
       "      dtype='object')"
      ]
     },
     "execution_count": 41,
     "metadata": {},
     "output_type": "execute_result"
    }
   ],
   "source": [
    "df.columns"
   ]
  },
  {
   "cell_type": "code",
   "execution_count": 36,
   "metadata": {
    "id": "BWtWLZrlSeZP"
   },
   "outputs": [
    {
     "data": {
      "text/plain": [
       "<AxesSubplot:>"
      ]
     },
     "execution_count": 36,
     "metadata": {},
     "output_type": "execute_result"
    },
    {
     "data": {
      "image/png": "[encoded data removed]",
      "text/plain": [
       "<Figure size 640x480 with 1 Axes>"
      ]
     },
     "metadata": {},
     "output_type": "display_data"
    }
   ],
   "source": [
    "col = ['math_score','reading_score', 'writing_score', 'placement_score']\n",
    "df.boxplot(col)"
   ]
  },
  {
   "cell_type": "code",
   "execution_count": 37,
   "metadata": {
    "id": "k-jVwGNXV8A1"
   },
   "outputs": [
    {
     "name": "stdout",
     "output_type": "stream",
     "text": [
      "(array([], dtype=int64),)\n"
     ]
    }
   ],
   "source": [
    "print(np.where(df['math_score'] <25))"
   ]
  },
  {
   "cell_type": "code",
   "execution_count": 38,
   "metadata": {
    "colab": {
     "base_uri": "https://localhost:8080/",
     "height": 445
    },
    "id": "cPi7IQZ0WK2c",
    "outputId": "c2be4226-1538-4bfe-a443-11ec187bbbae"
   },
   "outputs": [
    {
     "name": "stdout",
     "output_type": "stream",
     "text": [
      "(array([], dtype=int64),)\n"
     ]
    }
   ],
   "source": [
    "print(np.where(df['reading_score'] <25))"
   ]
  },
  {
   "cell_type": "code",
   "execution_count": 39,
   "metadata": {
    "colab": {
     "base_uri": "https://localhost:8080/",
     "height": 1000
    },
    "id": "Px6M8b_MWd5g",
    "outputId": "00ada875-219e-4155-a24b-5a4c77eb01cb"
   },
   "outputs": [
    {
     "name": "stdout",
     "output_type": "stream",
     "text": [
      "(array([], dtype=int64),)\n"
     ]
    }
   ],
   "source": [
    "print(np.where(df['writing_score'] <25))"
   ]
  },
  {
   "cell_type": "markdown",
   "metadata": {},
   "source": [
    "# Detecting outliers using scatterplot:"
   ]
  },
  {
   "cell_type": "code",
   "execution_count": 42,
   "metadata": {},
   "outputs": [],
   "source": [
    "import pandas as pd"
   ]
  },
  {
   "cell_type": "code",
   "execution_count": 43,
   "metadata": {},
   "outputs": [],
   "source": [
    "import numpy as np"
   ]
  },
  {
   "cell_type": "code",
   "execution_count": 44,
   "metadata": {},
   "outputs": [],
   "source": [
    "import matplotlib.pyplot as plt"
   ]
  },
  {
   "cell_type": "code",
   "execution_count": 45,
   "metadata": {},
   "outputs": [
    {
     "data": {
      "text/html": [
       "<div>\n",
       "<style scoped>\n",
       "    .dataframe tbody tr th:only-of-type {\n",
       "        vertical-align: middle;\n",
       "    }\n",
       "\n",
       "    .dataframe tbody tr th {\n",
       "        vertical-align: top;\n",
       "    }\n",
       "\n",
       "    .dataframe thead th {\n",
       "        text-align: right;\n",
       "    }\n",
       "</style>\n",
       "<table border=\"1\" class=\"dataframe\">\n",
       "  <thead>\n",
       "    <tr style=\"text-align: right;\">\n",
       "      <th></th>\n",
       "      <th>Gender</th>\n",
       "      <th>math_score</th>\n",
       "      <th>reading_score</th>\n",
       "      <th>writing_score</th>\n",
       "      <th>placement_score</th>\n",
       "      <th>club join year</th>\n",
       "      <th>placement offer count</th>\n",
       "    </tr>\n",
       "  </thead>\n",
       "  <tbody>\n",
       "    <tr>\n",
       "      <th>0</th>\n",
       "      <td>male</td>\n",
       "      <td>75</td>\n",
       "      <td>72</td>\n",
       "      <td>62</td>\n",
       "      <td>85</td>\n",
       "      <td>2023</td>\n",
       "      <td>1</td>\n",
       "    </tr>\n",
       "    <tr>\n",
       "      <th>1</th>\n",
       "      <td>female</td>\n",
       "      <td>86</td>\n",
       "      <td>75</td>\n",
       "      <td>85</td>\n",
       "      <td>75</td>\n",
       "      <td>2022</td>\n",
       "      <td>2</td>\n",
       "    </tr>\n",
       "    <tr>\n",
       "      <th>2</th>\n",
       "      <td>male</td>\n",
       "      <td>76</td>\n",
       "      <td>61</td>\n",
       "      <td>42</td>\n",
       "      <td>85</td>\n",
       "      <td>2023</td>\n",
       "      <td>1</td>\n",
       "    </tr>\n",
       "    <tr>\n",
       "      <th>3</th>\n",
       "      <td>female</td>\n",
       "      <td>71</td>\n",
       "      <td>42</td>\n",
       "      <td>85</td>\n",
       "      <td>46</td>\n",
       "      <td>2023</td>\n",
       "      <td>1</td>\n",
       "    </tr>\n",
       "    <tr>\n",
       "      <th>4</th>\n",
       "      <td>female</td>\n",
       "      <td>73</td>\n",
       "      <td>55</td>\n",
       "      <td>55</td>\n",
       "      <td>85</td>\n",
       "      <td>2023</td>\n",
       "      <td>1</td>\n",
       "    </tr>\n",
       "    <tr>\n",
       "      <th>5</th>\n",
       "      <td>male</td>\n",
       "      <td>76</td>\n",
       "      <td>62</td>\n",
       "      <td>45</td>\n",
       "      <td>94</td>\n",
       "      <td>2023</td>\n",
       "      <td>1</td>\n",
       "    </tr>\n",
       "    <tr>\n",
       "      <th>6</th>\n",
       "      <td>female</td>\n",
       "      <td>71</td>\n",
       "      <td>42</td>\n",
       "      <td>75</td>\n",
       "      <td>85</td>\n",
       "      <td>2022</td>\n",
       "      <td>1</td>\n",
       "    </tr>\n",
       "    <tr>\n",
       "      <th>7</th>\n",
       "      <td>male</td>\n",
       "      <td>74</td>\n",
       "      <td>52</td>\n",
       "      <td>85</td>\n",
       "      <td>76</td>\n",
       "      <td>2022</td>\n",
       "      <td>1</td>\n",
       "    </tr>\n",
       "    <tr>\n",
       "      <th>8</th>\n",
       "      <td>male</td>\n",
       "      <td>75</td>\n",
       "      <td>85</td>\n",
       "      <td>75</td>\n",
       "      <td>91</td>\n",
       "      <td>2023</td>\n",
       "      <td>1</td>\n",
       "    </tr>\n",
       "    <tr>\n",
       "      <th>9</th>\n",
       "      <td>female</td>\n",
       "      <td>73</td>\n",
       "      <td>75</td>\n",
       "      <td>45</td>\n",
       "      <td>83</td>\n",
       "      <td>2023</td>\n",
       "      <td>1</td>\n",
       "    </tr>\n",
       "    <tr>\n",
       "      <th>10</th>\n",
       "      <td>male</td>\n",
       "      <td>75</td>\n",
       "      <td>75</td>\n",
       "      <td>52</td>\n",
       "      <td>46</td>\n",
       "      <td>2023</td>\n",
       "      <td>1</td>\n",
       "    </tr>\n",
       "  </tbody>\n",
       "</table>\n",
       "</div>"
      ],
      "text/plain": [
       "    Gender  math_score  reading_score  writing_score  placement_score  \\\n",
       "0     male          75             72             62               85   \n",
       "1   female          86             75             85               75   \n",
       "2     male          76             61             42               85   \n",
       "3   female          71             42             85               46   \n",
       "4   female          73             55             55               85   \n",
       "5     male          76             62             45               94   \n",
       "6   female          71             42             75               85   \n",
       "7     male          74             52             85               76   \n",
       "8     male          75             85             75               91   \n",
       "9   female          73             75             45               83   \n",
       "10    male          75             75             52               46   \n",
       "\n",
       "    club join year  placement offer count  \n",
       "0             2023                      1  \n",
       "1             2022                      2  \n",
       "2             2023                      1  \n",
       "3             2023                      1  \n",
       "4             2023                      1  \n",
       "5             2023                      1  \n",
       "6             2022                      1  \n",
       "7             2022                      1  \n",
       "8             2023                      1  \n",
       "9             2023                      1  \n",
       "10            2023                      1  "
      ]
     },
     "execution_count": 45,
     "metadata": {},
     "output_type": "execute_result"
    }
   ],
   "source": [
    "df"
   ]
  },
  {
   "cell_type": "code",
   "execution_count": 46,
   "metadata": {},
   "outputs": [
    {
     "data": {
      "image/png": "[encoded data removed]",
      "text/plain": [
       "<Figure size 640x480 with 1 Axes>"
      ]
     },
     "metadata": {},
     "output_type": "display_data"
    }
   ],
   "source": [
    "#ax = plt.subplots(figsize = (18,10))\n",
    "plt.scatter(df['math_score'], df['placement offer count'])\n",
    "plt.show()"
   ]
  },
  {
   "cell_type": "code",
   "execution_count": 47,
   "metadata": {
    "colab": {
     "base_uri": "https://localhost:8080/"
    },
    "id": "ayq46kZHbunV",
    "outputId": "e24d293e-0f28-4385-cf21-bc929d75504c"
   },
   "outputs": [
    {
     "data": {
      "text/plain": [
       "Index(['Gender', 'math_score', 'reading_score', 'writing_score',\n",
       "       'placement_score', 'club join year', 'placement offer count'],\n",
       "      dtype='object')"
      ]
     },
     "execution_count": 47,
     "metadata": {},
     "output_type": "execute_result"
    }
   ],
   "source": [
    "df.columns"
   ]
  },
  {
   "cell_type": "code",
   "execution_count": 48,
   "metadata": {},
   "outputs": [
    {
     "data": {
      "image/png": "[encoded data removed]",
      "text/plain": [
       "<Figure size 640x480 with 1 Axes>"
      ]
     },
     "metadata": {},
     "output_type": "display_data"
    }
   ],
   "source": [
    "plt.scatter(df['placement offer count'],df['placement offer count'],c='yellow',linewidths = 2,marker = '.',edgecolor ='red' ,s = 50)\n",
    "plt.xlabel=(\"placement score\")\n",
    "plt.ylabel=(\"placement offer count\")\n",
    "plt.show()"
   ]
  },
  {
   "cell_type": "code",
   "execution_count": 49,
   "metadata": {
    "colab": {
     "base_uri": "https://localhost:8080/",
     "height": 265
    },
    "id": "kSZ5uTQSfDSV",
    "outputId": "9c04ca02-5b07-4fea-f72d-0ec48893145d"
   },
   "outputs": [
    {
     "data": {
      "image/png": "[encoded data removed]",
      "text/plain": [
       "<Figure size 640x480 with 1 Axes>"
      ]
     },
     "metadata": {},
     "output_type": "display_data"
    }
   ],
   "source": [
    "plt.scatter(x=df['math_score'],y=df['placement_score'],c='blue',linewidths = 2,marker ='^',edgecolor = 'green',s = 80)\n",
    "plt.show()"
   ]
  },
  {
   "cell_type": "code",
   "execution_count": 50,
   "metadata": {},
   "outputs": [
    {
     "name": "stdout",
     "output_type": "stream",
     "text": [
      "(array([], dtype=int64),)\n"
     ]
    }
   ],
   "source": [
    "print(np.where((df['placement_score']<50) & (df['placement offer count']>1)))"
   ]
  },
  {
   "cell_type": "code",
   "execution_count": 51,
   "metadata": {},
   "outputs": [
    {
     "name": "stdout",
     "output_type": "stream",
     "text": [
      "(array([], dtype=int64),)\n"
     ]
    }
   ],
   "source": [
    "print(np.where((df['placement_score']<50) & (df['placement offer count']>3)))"
   ]
  },
  {
   "cell_type": "markdown",
   "metadata": {
    "id": "dzIc5hibm4Mb"
   },
   "source": [
    "**3**.Detecting outliers using Z-SCORE: "
   ]
  },
  {
   "cell_type": "code",
   "execution_count": null,
   "metadata": {
    "id": "g2yemN6ga4DD"
   },
   "outputs": [],
   "source": [
    "from scipy import stats"
   ]
  },
  {
   "cell_type": "code",
   "execution_count": null,
   "metadata": {
    "colab": {
     "base_uri": "https://localhost:8080/"
    },
    "id": "IK-bB8NLbl37",
    "outputId": "8329f37b-125b-4ba7-e2a2-3c7b90f42eaf"
   },
   "outputs": [],
   "source": [
    "z = np.abs(stats.zscore(df['math_score']))\n",
    "z"
   ]
  },
  {
   "cell_type": "code",
   "execution_count": null,
   "metadata": {
    "colab": {
     "base_uri": "https://localhost:8080/"
    },
    "id": "aXrW6T-tbsCh",
    "outputId": "23bedf74-0925-44b9-d741-34b1f5872fe1"
   },
   "outputs": [],
   "source": [
    "threshold =1.8\n",
    "sample_outliers = np.where(z >threshold)\n",
    "sample_outliers+"
   ]
  },
  {
   "cell_type": "code",
   "execution_count": null,
   "metadata": {
    "colab": {
     "base_uri": "https://localhost:8080/"
    },
    "id": "4D-cc01nb8R4",
    "outputId": "e22a4df7-a99a-46e3-adf0-7ae2307a3d80"
   },
   "outputs": [],
   "source": [
    "df['math_score']"
   ]
  },
  {
   "cell_type": "markdown",
   "metadata": {
    "id": "oakzkF31cal3"
   },
   "source": [
    "## **Detecting outliers using Inter Quantile Range(IQR):**\n",
    "IQR = Quartile3 - Quartile1\n",
    "To define the outlier base value is defined above and below datasets normal range namely Upper and Lower bounds, define the\n",
    "upper and the lower bound (1.5*IQR value is considered) :\n",
    "\n",
    "upper = Q3 +1.5*IQR\n",
    "\n",
    "lower = Q1 -1.5*IQR"
   ]
  },
  {
   "cell_type": "code",
   "execution_count": null,
   "metadata": {
    "colab": {
     "base_uri": "https://localhost:8080/"
    },
    "id": "sh-Fzaqke8we",
    "outputId": "403c6bf6-929b-40bb-fcbb-30abfbfc1ce1"
   },
   "outputs": [],
   "source": [
    "sorted_rscore= sorted(df['reading_score'])\n",
    "sorted_rscore"
   ]
  },
  {
   "cell_type": "code",
   "execution_count": null,
   "metadata": {
    "colab": {
     "base_uri": "https://localhost:8080/"
    },
    "id": "okt5wNKwfXPG",
    "outputId": "4b1a22be-2ea7-4d27-ff95-1f45241fd207"
   },
   "outputs": [],
   "source": [
    "# Calculate and print Quartile 1 and Quartile 3\n",
    "q1 = np.percentile(sorted_rscore, 25)\n",
    "q3 = np.percentile(sorted_rscore, 75)\n",
    "print(q1,q3)\n"
   ]
  },
  {
   "cell_type": "code",
   "execution_count": null,
   "metadata": {
    "colab": {
     "base_uri": "https://localhost:8080/"
    },
    "id": "qc5nO-Dff9Av",
    "outputId": "07c31604-8c68-434d-f229-e1f329025404"
   },
   "outputs": [],
   "source": [
    "IQR = q3-q1\n",
    "IQR"
   ]
  },
  {
   "cell_type": "code",
   "execution_count": null,
   "metadata": {
    "colab": {
     "base_uri": "https://localhost:8080/"
    },
    "id": "_Cx91iZZgPnP",
    "outputId": "05485273-7fb9-4d28-e200-18074b560e26"
   },
   "outputs": [],
   "source": [
    "lwr_bound = q1-(1.5*IQR)\n",
    "upr_bound = q3+(1.5*IQR)\n",
    "print(lwr_bound, upr_bound)"
   ]
  },
  {
   "cell_type": "code",
   "execution_count": null,
   "metadata": {
    "colab": {
     "base_uri": "https://localhost:8080/"
    },
    "id": "mxaBDPo4hLxW",
    "outputId": "9a15ae72-390c-4c15-d78c-d3d64b1f40ed"
   },
   "outputs": [],
   "source": [
    "#print outliers\n",
    "r_outliers = []\n",
    "for i in sorted_rscore:\n",
    "  if (i<lwr_bound or i>upr_bound):\n",
    "    r_outliers.append(i)\n",
    "    print(r_outliers)"
   ]
  },
  {
   "cell_type": "code",
   "execution_count": null,
   "metadata": {
    "colab": {
     "base_uri": "https://localhost:8080/"
    },
    "id": "bW39y4iFl6fH",
    "outputId": "3aebfb2a-2b79-4882-ae26-7dc18d4de176"
   },
   "outputs": [],
   "source": [
    "df['reading_score']"
   ]
  },
  {
   "cell_type": "markdown",
   "metadata": {
    "id": "ZdRdLQ9ymHYw"
   },
   "source": [
    "# # Handling of Outliers:"
   ]
  },
  {
   "cell_type": "markdown",
   "metadata": {
    "id": "BRkSgUulmsB_"
   },
   "source": [
    "## **1.Trimming\\removing the outliers:**"
   ]
  },
  {
   "cell_type": "code",
   "execution_count": null,
   "metadata": {
    "id": "QNBobZN3mEbP"
   },
   "outputs": [],
   "source": [
    "new_df=df.copy()\n",
    "for i in sample_outliers:\n",
    "  new_df.drop(i,inplace=True)\n",
    "  new_df"
   ]
  },
  {
   "cell_type": "markdown",
   "metadata": {
    "id": "ek9M_LQ7nSgf"
   },
   "source": [
    "## **2.Quantile based flooring and capping**"
   ]
  },
  {
   "cell_type": "code",
   "execution_count": null,
   "metadata": {
    "id": "CbXdzEMfnQoo"
   },
   "outputs": [],
   "source": [
    "df_stud=df.copy()"
   ]
  },
  {
   "cell_type": "code",
   "execution_count": null,
   "metadata": {
    "colab": {
     "base_uri": "https://localhost:8080/",
     "height": 959
    },
    "id": "1afv9rpSnpsf",
    "outputId": "f32fb2d4-ec13-4b7b-ed5b-b1805bbe7e11"
   },
   "outputs": [],
   "source": [
    "df_stud"
   ]
  },
  {
   "cell_type": "code",
   "execution_count": null,
   "metadata": {
    "colab": {
     "base_uri": "https://localhost:8080/"
    },
    "id": "09OpGLDZnsw2",
    "outputId": "476e07e0-4b6e-4463-a467-173b732e0f9d"
   },
   "outputs": [],
   "source": [
    "print(df_stud['math_score'].quantile(0.10))\n",
    "print(df_stud['math_score'].quantile(0.90))"
   ]
  },
  {
   "cell_type": "code",
   "execution_count": null,
   "metadata": {
    "id": "zDBm-2c_oBPn"
   },
   "outputs": [],
   "source": [
    "df_stud1=df_stud.copy()\n",
    "a= np.where(df_stud['math_score']<62.0, 62.0,df_stud1['math_score'])\n",
    "b= np.where(df_stud['math_score']<79.1, 79.1,df_stud1['math_score'])"
   ]
  },
  {
   "cell_type": "code",
   "execution_count": null,
   "metadata": {
    "colab": {
     "base_uri": "https://localhost:8080/"
    },
    "id": "azzFufcRoxnf",
    "outputId": "6624728d-75e3-4030-fd30-3bba9001822a"
   },
   "outputs": [],
   "source": [
    "print(\"a=\",a)\n",
    "print(\"b=\",b)"
   ]
  },
  {
   "cell_type": "code",
   "execution_count": null,
   "metadata": {
    "colab": {
     "base_uri": "https://localhost:8080/",
     "height": 959
    },
    "id": "K32mvKkKpJdA",
    "outputId": "159cd936-1c56-4778-805f-4b43b193884d"
   },
   "outputs": [],
   "source": [
    "df_stud.insert(1,\"new_math<62\",a,True)\n",
    "df_stud.insert(1,\"new_math<79.1\",b,True)\n",
    "df_stud"
   ]
  },
  {
   "cell_type": "markdown",
   "metadata": {
    "id": "qnAhYOsnqF0H"
   },
   "source": [
    "## **Imputing median value**"
   ]
  },
  {
   "cell_type": "code",
   "execution_count": null,
   "metadata": {
    "colab": {
     "base_uri": "https://localhost:8080/",
     "height": 265
    },
    "id": "v_Jyyo4qqDFP",
    "outputId": "6b6c1289-b14d-42e0-91cd-3d38f32c8575"
   },
   "outputs": [],
   "source": [
    "#col = ['reading score']\n",
    "plt.boxplot(df['reading_score'])\n",
    "plt.show()"
   ]
  },
  {
   "cell_type": "code",
   "execution_count": null,
   "metadata": {
    "colab": {
     "base_uri": "https://localhost:8080/"
    },
    "id": "D-bliTgzufs3",
    "outputId": "06790868-4570-4866-a104-9816744abeaa"
   },
   "outputs": [],
   "source": [
    "median=np.median(sorted_rscore)\n",
    "median"
   ]
  },
  {
   "cell_type": "code",
   "execution_count": null,
   "metadata": {
    "colab": {
     "base_uri": "https://localhost:8080/",
     "height": 959
    },
    "id": "2tmiABf3uwvO",
    "outputId": "ffebffc0-20c7-4bea-ce98-2586968363d8"
   },
   "outputs": [],
   "source": [
    "new_df=df.copy()\n",
    "new_df2=new_df.copy()\n",
    "new_df"
   ]
  },
  {
   "cell_type": "code",
   "execution_count": null,
   "metadata": {
    "id": "d4pCIaORvEbH"
   },
   "outputs": [],
   "source": [
    "new_df['reading_score']= np.where(new_df['reading_score']>upr_bound,73.0,new_df['reading_score'])"
   ]
  },
  {
   "cell_type": "code",
   "execution_count": null,
   "metadata": {
    "id": "PUrhVQCavdPN"
   },
   "outputs": [],
   "source": [
    "new_df.insert(2,\"old_reading score\",new_df2['reading_score'],True)"
   ]
  },
  {
   "cell_type": "code",
   "execution_count": null,
   "metadata": {
    "colab": {
     "base_uri": "https://localhost:8080/",
     "height": 959
    },
    "id": "aEgr8_yXvtn2",
    "outputId": "63e5970d-5195-4d93-e12d-685360801c7b"
   },
   "outputs": [],
   "source": [
    "new_df"
   ]
  },
  {
   "cell_type": "code",
   "execution_count": null,
   "metadata": {
    "colab": {
     "base_uri": "https://localhost:8080/",
     "height": 265
    },
    "id": "XNMwt9DFvwPm",
    "outputId": "5495d23a-4ab2-4968-e75c-ed2d29999f30"
   },
   "outputs": [],
   "source": [
    "plt.boxplot(new_df['reading_score'])\n",
    "plt.show()"
   ]
  },
  {
   "cell_type": "code",
   "execution_count": null,
   "metadata": {},
   "outputs": [],
   "source": []
  },
  {
   "cell_type": "code",
   "execution_count": null,
   "metadata": {},
   "outputs": [],
   "source": []
  }
 ],
 "metadata": {
  "colab": {
   "provenance": []
  },
  "kernelspec": {
   "display_name": "Python 3 (ipykernel)",
   "language": "python",
   "name": "python3"
  },
  "language_info": {
   "codemirror_mode": {
    "name": "ipython",
    "version": 3
   },
   "file_extension": ".py",
   "mimetype": "text/x-python",
   "name": "python",
   "nbconvert_exporter": "python",
   "pygments_lexer": "ipython3",
   "version": "3.9.13"
  }
 },
 "nbformat": 4,
 "nbformat_minor": 1
}
